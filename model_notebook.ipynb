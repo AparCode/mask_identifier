{
 "metadata": {
  "language_info": {
   "codemirror_mode": {
    "name": "ipython",
    "version": 3
   },
   "file_extension": ".py",
   "mimetype": "text/x-python",
   "name": "python",
   "nbconvert_exporter": "python",
   "pygments_lexer": "ipython3",
   "version": 3
  },
  "orig_nbformat": 2
 },
 "nbformat": 4,
 "nbformat_minor": 2,
 "cells": [
  {
   "cell_type": "code",
   "execution_count": null,
   "metadata": {},
   "outputs": [],
   "source": [
    "\n",
    "import torch\n",
    "import torch_model as tm\n",
    "import numpy as np\n",
    "from noggin import create_plot\n",
    "\n",
    "%matplotlib notebook\n",
    "device = 'cuda' if torch.cuda.is_available() else 'cpu'\n",
    "\n",
    "with_mask = np.load(\"with_masks.npy\")\n",
    "without_mask = np.load(\"without_masks.npy\")\n",
    "\n",
    "\n",
    "# model = tm.TorchModel(f1=20, f2=10, d1=20, input_dim=1, num_classes=2).to(device)\n",
    "x_train_mask, x_test_mask = tm.convert_data(with_mask)\n",
    "x_train_without, x_test_without = tm.convert_data(without_mask)\n",
    "\n",
    "y_train_mask = np.ones(x_train_mask.shape[0], dtype=np.int)\n",
    "y_test_mask = np.ones(x_test_mask.shape[0], dtype=np.int)\n",
    "y_train_without = np.zeros(x_train_without.shape[0], dtype=np.int)\n",
    "y_test_without = np.zeros(x_test_without.shape[0], dtype=np.int)\n",
    "\n",
    "x_train = np.append(x_train_mask, x_train_without, axis=0)\n",
    "x_test = np.append(x_test_mask, x_test_without, axis=0)\n",
    "y_train = np.append(y_train_mask, y_train_without, axis=0)\n",
    "y_test = np.append(y_test_mask, y_test_without, axis=0)\n",
    "# optim = torch.optim.SGD(model.parameters(), lr=0.01, momentum=0.9, weight_decay=5E-4) \n",
    "\n",
    "plotter, fig, ax = create_plot(metrics=[\"loss\", \"accuracy\"]) ### TODO uncomment when working in jupyter notebook\n",
    "\n",
    "loss_fn = torch.nn.CrossEntropyLoss()\n",
    "batch_size = 30\n",
    "\n",
    "print(device)"
   ]
  },
  {
   "cell_type": "code",
   "execution_count": null,
   "metadata": {},
   "outputs": [],
   "source": [
    "\n",
    "for epoch_cnt in range(20):\n",
    "    idxs = np.arange(len(x_train))\n",
    "    np.random.shuffle(idxs)\n",
    "\n",
    "    for batch_cnt in range(0, len(x_train) // batch_size):\n",
    "        optim.zero_grad()\n",
    "        start_ind = batch_cnt*batch_size\n",
    "        batch_indices = idxs[start_ind : start_ind+batch_size]\n",
    "        batch = x_train[batch_indices]  # random batch of our training data\n",
    "        pred = model(torch.Tensor(batch).to(device))\n",
    "        pred_true = y_train[batch_indices]\n",
    "\n",
    "        loss = loss_fn(pred, torch.from_numpy(pred_true).long().to(device))\n",
    "        loss.backward()\n",
    "        acc = tm.accuracy(pred.cpu(), pred_true)\n",
    "        optim.step()\n",
    "        \n",
    "        # TODO uncomment in jupyter notebook\n",
    "        plotter.set_train_batch({\"loss\" : loss.item(),\n",
    "                                 \"accuracy\" : acc},\n",
    "                                batch_size = batch_size)\n",
    "          \n",
    "    # TODO uncomment in jupyter notebook\n",
    "    test_idxs = np.arange(len(x_test))\n",
    "    \n",
    "    for batch_cnt in range(0, (len(x_test) // batch_size)):\n",
    "        start_ind = batch_cnt*batch_size\n",
    "        batch_indices = test_idxs[start_ind : start_ind+batch_size]\n",
    "        \n",
    "        batch = x_test[batch_indices]\n",
    "        \n",
    "        pred_test = model(torch.Tensor(batch).to(device))\n",
    "        true_test = y_test[batch_indices]\n",
    "\n",
    "        test_accuracy = tm.accuracy(pred_test.cpu(), true_test)        \n",
    "        plotter.set_test_batch({\"accuracy\" : test_accuracy}, batch_size=batch_size)\n",
    "    plotter.set_test_epoch()\n",
    "\n",
    "pred = model(torch.Tensor(x_test).to(device))\n",
    "accuracy = tm.accuracy(pred.cpu(), y_test)\n",
    "print(\"Accuracy: \" + str(accuracy))"
   ]
  },
  {
   "cell_type": "code",
   "execution_count": null,
   "metadata": {},
   "outputs": [],
   "source": [
    "torch.save(model.state_dict(), 'torch_params.pt')\n",
    "del model"
   ]
  },
  {
   "cell_type": "code",
   "execution_count": null,
   "metadata": {},
   "outputs": [],
   "source": [
    "torch.cuda.empty_cache()"
   ]
  },
  {
   "cell_type": "code",
   "execution_count": null,
   "metadata": {},
   "outputs": [],
   "source": [
    "new_model = tm.TorchModel(f1=20, f2=10, d1=20, input_dim=1, num_classes=2).to(device)"
   ]
  },
  {
   "cell_type": "code",
   "execution_count": null,
   "metadata": {},
   "outputs": [],
   "source": [
    "new_model.load_state_dict(torch.load('params.pt'))"
   ]
  },
  {
   "cell_type": "code",
   "execution_count": null,
   "metadata": {},
   "outputs": [],
   "source": [
    "pred = new_model(torch.Tensor(x_test).to(device))\n",
    "accuracy = tm.accuracy(pred.cpu(), y_test)\n",
    "print(\"Accuracy: \" + str(accuracy))"
   ]
  },
  {
   "cell_type": "code",
   "execution_count": null,
   "metadata": {},
   "outputs": [],
   "source": [
    "torch.cuda.empty_cache()"
   ]
  }
 ]
}